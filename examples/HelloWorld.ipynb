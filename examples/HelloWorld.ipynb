{
 "cells": [
  {
   "cell_type": "code",
   "execution_count": 1,
   "metadata": {},
   "outputs": [],
   "source": [
    "import pyvinecopulib as pv"
   ]
  },
  {
   "cell_type": "code",
   "execution_count": 2,
   "metadata": {},
   "outputs": [
    {
     "data": {
      "text/plain": [
       "array([[0.74947815, 0.81403581],\n",
       "       [0.16171693, 0.19044805],\n",
       "       [0.16459471, 0.64039311],\n",
       "       [0.07025821, 0.60111784],\n",
       "       [0.32474677, 0.48263717],\n",
       "       [0.0535855 , 0.62627027],\n",
       "       [0.52562217, 0.49283762],\n",
       "       [0.69817201, 0.59888033],\n",
       "       [0.28537438, 0.99614064],\n",
       "       [0.62861667, 0.15552961]])"
      ]
     },
     "execution_count": 2,
     "metadata": {},
     "output_type": "execute_result"
    }
   ],
   "source": [
    "pv.simulate_uniform(10, 2, False, [1, 2])"
   ]
  },
  {
   "cell_type": "code",
   "execution_count": null,
   "metadata": {},
   "outputs": [],
   "source": []
  }
 ],
 "metadata": {
  "kernelspec": {
   "display_name": "Python 3",
   "language": "python",
   "name": "python3"
  },
  "language_info": {
   "codemirror_mode": {
    "name": "ipython",
    "version": 3
   },
   "file_extension": ".py",
   "mimetype": "text/x-python",
   "name": "python",
   "nbconvert_exporter": "python",
   "pygments_lexer": "ipython3",
   "version": "3.7.2+"
  }
 },
 "nbformat": 4,
 "nbformat_minor": 2
}
