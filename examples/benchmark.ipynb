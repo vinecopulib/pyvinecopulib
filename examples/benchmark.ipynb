{
 "cells": [
  {
   "cell_type": "code",
   "execution_count": 2,
   "metadata": {},
   "outputs": [
    {
     "name": "stdout",
     "output_type": "stream",
     "text": [
      "Benchmark results (in seconds):\n",
      "Vinecop with family_set='itau': min=2.271671, mean=2.311788, max=2.376060\n",
      "Vinecop with family_set='itau' and par_method='itau': min=0.247383, mean=0.249442, max=0.255479\n"
     ]
    }
   ],
   "source": [
    "import timeit\n",
    "\n",
    "import numpy as np\n",
    "import pyvinecopulib as pv\n",
    "\n",
    "# Set parameters\n",
    "n = 500\n",
    "d = 3\n",
    "\n",
    "# Generate data\n",
    "x = np.random.normal(size=(n, d)) * np.ones((n, d)) + 0.5 * np.random.normal(\n",
    "  size=(n, d)\n",
    ")\n",
    "\n",
    "# Convert data to pseudo-observations\n",
    "u = pv.to_pseudo_obs(x)\n",
    "\n",
    "controls_itau = pv.FitControlsVinecop(family_set=pv.itau)\n",
    "controls_itau_par_method = pv.FitControlsVinecop(\n",
    "  family_set=pv.itau, parametric_method=\"itau\"\n",
    ")\n",
    "\n",
    "\n",
    "# Define two different configurations of the `vinecop` function\n",
    "def vinecop_itau():\n",
    "  return pv.Vinecop(u, controls=controls_itau)\n",
    "\n",
    "\n",
    "def vinecop_itau_par_method():\n",
    "  return pv.Vinecop(u, controls=controls_itau_par_method)\n",
    "\n",
    "\n",
    "# Benchmark the functions\n",
    "times_vinecop_itau = timeit.repeat(\n",
    "  \"vinecop_itau()\", globals=globals(), repeat=10, number=1\n",
    ")\n",
    "times_vinecop_itau_par_method = timeit.repeat(\n",
    "  \"vinecop_itau_par_method()\", globals=globals(), repeat=10, number=1\n",
    ")\n",
    "\n",
    "# Display benchmark results\n",
    "print(\"Benchmark results (in seconds):\")\n",
    "print(\n",
    "  f\"Vinecop with family_set='itau': min={min(times_vinecop_itau):.6f}, mean={np.mean(times_vinecop_itau):.6f}, max={max(times_vinecop_itau):.6f}\"\n",
    ")\n",
    "print(\n",
    "  f\"Vinecop with family_set='itau' and par_method='itau': min={min(times_vinecop_itau_par_method):.6f}, mean={np.mean(times_vinecop_itau_par_method):.6f}, max={max(times_vinecop_itau_par_method):.6f}\"\n",
    ")"
   ]
  }
 ],
 "metadata": {
  "kernelspec": {
   "display_name": "pyvinecopulib311",
   "language": "python",
   "name": "python3"
  },
  "language_info": {
   "codemirror_mode": {
    "name": "ipython",
    "version": 3
   },
   "file_extension": ".py",
   "mimetype": "text/x-python",
   "name": "python",
   "nbconvert_exporter": "python",
   "pygments_lexer": "ipython3",
   "version": "3.11.6"
  }
 },
 "nbformat": 4,
 "nbformat_minor": 2
}
