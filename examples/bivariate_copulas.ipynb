{
 "cells": [
  {
   "cell_type": "markdown",
   "metadata": {},
   "source": [
    "Import the library"
   ]
  },
  {
   "cell_type": "code",
   "execution_count": 1,
   "metadata": {
    "attributes": {
     "classes": [],
     "id": "",
     "n": "1"
    }
   },
   "outputs": [],
   "source": [
    "import pyvinecopulib as pv"
   ]
  },
  {
   "cell_type": "markdown",
   "metadata": {},
   "source": [
    "Create an independence bivariate copula"
   ]
  },
  {
   "cell_type": "code",
   "execution_count": 2,
   "metadata": {
    "attributes": {
     "classes": [],
     "id": "",
     "n": "2"
    }
   },
   "outputs": [
    {
     "data": {
      "text/plain": [
       "<pyvinecopulib.Bicop>\n",
       "Independence"
      ]
     },
     "execution_count": 2,
     "metadata": {},
     "output_type": "execute_result"
    }
   ],
   "source": [
    "pv.Bicop() "
   ]
  },
  {
   "cell_type": "markdown",
   "metadata": {},
   "source": [
    "Create a Gaussian copula\n",
    "See help(pv.BicopFamily) for the available families"
   ]
  },
  {
   "cell_type": "code",
   "execution_count": 3,
   "metadata": {
    "attributes": {
     "classes": [],
     "id": "",
     "n": "3"
    }
   },
   "outputs": [
    {
     "data": {
      "text/plain": [
       "<pyvinecopulib.Bicop>\n",
       "Gaussian, parameters = 0"
      ]
     },
     "execution_count": 3,
     "metadata": {},
     "output_type": "execute_result"
    }
   ],
   "source": [
    "pv.Bicop(family=pv.BicopFamily.gaussian)"
   ]
  },
  {
   "cell_type": "markdown",
   "metadata": {},
   "source": [
    "Create a 90 degrees rotated Clayon copula with parameter = 3"
   ]
  },
  {
   "cell_type": "code",
   "execution_count": 4,
   "metadata": {
    "attributes": {
     "classes": [],
     "id": "",
     "n": "4"
    }
   },
   "outputs": [
    {
     "data": {
      "text/plain": [
       "<pyvinecopulib.Bicop>\n",
       "Clayton 90°, parameters = 3"
      ]
     },
     "execution_count": 4,
     "metadata": {},
     "output_type": "execute_result"
    }
   ],
   "source": [
    "pv.Bicop(family=pv.BicopFamily.clayton, rotation=90, parameters=[3])"
   ]
  },
  {
   "cell_type": "markdown",
   "metadata": {},
   "source": [
    "Create a t copula with correlation of 0.5 and 4 degrees of freedom\n",
    "and showcase some methods"
   ]
  },
  {
   "cell_type": "code",
   "execution_count": 5,
   "metadata": {
    "attributes": {
     "classes": [],
     "id": "",
     "n": "5"
    }
   },
   "outputs": [
    {
     "data": {
      "text/plain": [
       "[array([0.7092173 , 0.4810942 , 0.81301356, 1.39839611, 2.0873499 ,\n",
       "        2.79384106, 1.11748814, 0.55365742, 1.94610848, 0.80483478]),\n",
       " array([0.13932915, 0.28749817, 0.18307038, 0.61323437, 0.0331152 ,\n",
       "        0.0193519 , 0.40936082, 0.18184118, 0.78248955, 0.14523531]),\n",
       " array([0.8170847 , 0.11345477, 0.12286857, 0.78638305, 0.10872534,\n",
       "        0.35645124, 0.77472657, 0.90877192, 0.76413881, 0.77807695]),\n",
       " array([0.08241333, 0.96386291, 0.79699695, 0.52499938, 0.39444021,\n",
       "        0.09401172, 0.33903085, 0.08152695, 0.71452328, 0.09953434]),\n",
       " array([0.39910753, 0.58076221, 0.32192543, 0.81770422, 0.04078053,\n",
       "        0.0190836 , 0.65748713, 0.58895048, 0.92393781, 0.37153588]),\n",
       " array([0.26444729, 0.79267514, 0.44179055, 0.79869798, 0.04211888,\n",
       "        0.01956738, 0.59671571, 0.3699726 , 0.92303602, 0.26213502]),\n",
       " 0.7849333316959906,\n",
       " 2.430133336608019,\n",
       " 3.0353035225961107]"
      ]
     },
     "execution_count": 5,
     "metadata": {},
     "output_type": "execute_result"
    }
   ],
   "source": [
    "cop = pv.Bicop(family=pv.BicopFamily.student, rotation=0, parameters=[0.5, 4])\n",
    "u = cop.simulate(n=10, seeds=[1, 2, 3])\n",
    "fcts = [cop.pdf, cop.cdf,\n",
    "        cop.hfunc1, cop.hfunc2,\n",
    "        cop.hinv1, cop.hinv2,\n",
    "        cop.loglik, cop.aic, cop.bic]\n",
    "[f(u) for f in fcts]"
   ]
  },
  {
   "cell_type": "markdown",
   "metadata": {},
   "source": [
    "Different ways to fit a copula..."
   ]
  },
  {
   "cell_type": "code",
   "execution_count": 6,
   "metadata": {
    "attributes": {
     "classes": [],
     "id": "",
     "n": "6"
    }
   },
   "outputs": [
    {
     "name": "stdout",
     "output_type": "stream",
     "text": [
      "<pyvinecopulib.Bicop>\n",
      "Student, parameters = 0.515883\n",
      " 4.13667\n",
      "<pyvinecopulib.Bicop>\n",
      "Student, parameters = 0.515883\n",
      " 4.13667\n"
     ]
    }
   ],
   "source": [
    "u = cop.simulate(n=1000, seeds=[1, 2, 3])\n",
    "\n",
    "# Create a new object an sets its parameters by fitting afterwards\n",
    "cop2 = pv.Bicop(pv.BicopFamily.student)\n",
    "cop2.fit(data=u)\n",
    "print(cop2)\n",
    "\n",
    "# Otherwise, define first an object to control the fits:\n",
    "#    - pv.FitControlsBicop objects store the controls\n",
    "#    - here, we only restrict the parametric family\n",
    "#    - see help(pv.FitControlsBicop) for more details\n",
    "# Then, create a copula from the data\n",
    "controls = pv.FitControlsBicop(family_set=[pv.BicopFamily.student])\n",
    "cop2 = pv.Bicop(data=u, controls=controls)\n",
    "print(cop2)"
   ]
  },
  {
   "cell_type": "markdown",
   "metadata": {},
   "source": [
    "Similarly, when the family is unkown,\n",
    "there are two ways to also do model selection..."
   ]
  },
  {
   "cell_type": "code",
   "execution_count": 7,
   "metadata": {
    "attributes": {
     "classes": [],
     "id": "",
     "n": "7"
    }
   },
   "outputs": [
    {
     "name": "stdout",
     "output_type": "stream",
     "text": [
      "<pyvinecopulib.Bicop>\n",
      "Student, parameters = 0.515883\n",
      " 4.13667\n",
      "<pyvinecopulib.Bicop>\n",
      "Student, parameters = 0.515883\n",
      " 4.13667\n"
     ]
    }
   ],
   "source": [
    "# Create a new object an selects both its family and parameters afterwards\n",
    "cop3 = pv.Bicop()\n",
    "cop3.select(data=u)\n",
    "print(cop3)\n",
    "\n",
    "# Or create directly from data\n",
    "cop3 = pv.Bicop(data=u)\n",
    "print(cop3)"
   ]
  }
 ],
 "metadata": {
  "kernelspec": {
   "display_name": "Python 3",
   "language": "python",
   "name": "python3"
  },
  "language_info": {
   "codemirror_mode": {
    "name": "ipython",
    "version": 3
   },
   "file_extension": ".py",
   "mimetype": "text/x-python",
   "name": "python",
   "nbconvert_exporter": "python",
   "pygments_lexer": "ipython3",
   "version": "3.7.3"
  }
 },
 "nbformat": 4,
 "nbformat_minor": 2
}
