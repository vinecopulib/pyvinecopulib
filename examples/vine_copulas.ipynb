{
 "cells": [
  {
   "cell_type": "markdown",
   "metadata": {},
   "source": [
    "Import the library"
   ]
  },
  {
   "cell_type": "code",
   "execution_count": 4,
   "metadata": {},
   "outputs": [],
   "source": [
    "import pyvinecopulib as pv\n",
    "import numpy as np"
   ]
  },
  {
   "cell_type": "code",
   "execution_count": 5,
   "metadata": {},
   "outputs": [
    {
     "name": "stdout",
     "output_type": "stream",
     "text": [
      "<pyvinecopulib.Vinecop> Vinecop model with 3 variables\n",
      "tree edge conditioned variables conditioning variables var_types family rotation parameters  df   tau \n",
      "   1    1                  3, 1                             c, c    BB1       90 3.00, 2.00 2.0 -0.80 \n",
      "   1    2                  2, 1                             c, c    BB1       90 3.00, 2.00 2.0 -0.80 \n",
      "   2    1                  3, 2                      1      c, c    BB1       90 3.00, 2.00 2.0 -0.80 \n",
      "\n",
      "[[1 1 1]\n",
      " [2 2 0]\n",
      " [3 0 0]]\n",
      "[[1 1 1]\n",
      " [2 2 0]\n",
      " [3 0 0]]\n"
     ]
    },
    {
     "data": {
      "image/png": "[encoded data removed]",
      "text/plain": [
       "<Figure size 500x800 with 2 Axes>"
      ]
     },
     "metadata": {},
     "output_type": "display_data"
    }
   ],
   "source": [
    "# Specify pair-copulas\n",
    "bicop = pv.Bicop(pv.BicopFamily.bb1, 90, parameters=np.array([[3.0], [2.0]]))\n",
    "pcs = [[bicop, bicop], [bicop]]\n",
    "\n",
    "# Specify R-vine matrix\n",
    "mat = np.array([[1, 1, 1], [2, 2, 0], [3, 0, 0]])\n",
    "\n",
    "# Set-up a vine copula\n",
    "cop = pv.Vinecop.from_structure_or_matrix(matrix=mat, pair_copulas=pcs)\n",
    "print(cop)\n",
    "cop.plot()"
   ]
  },
  {
   "cell_type": "markdown",
   "metadata": {
    "scrolled": true
   },
   "source": [
    "Showcase some methods"
   ]
  },
  {
   "cell_type": "code",
   "execution_count": 6,
   "metadata": {},
   "outputs": [
    {
     "data": {
      "text/plain": [
       "[array([ 44.67583001,  54.34974545,  29.84989695,  19.18643731,\n",
       "        199.72159236, 944.18332674,  21.78049474,  43.78532554,\n",
       "          9.10911159,  13.39339764]),\n",
       " array([[0.1638618 , 0.8170847 , 0.12668051],\n",
       "        [0.90118677, 0.11345478, 0.2222099 ],\n",
       "        [0.62193432, 0.12286857, 0.39604429],\n",
       "        [0.6902412 , 0.78638305, 0.37455509],\n",
       "        [0.13685699, 0.10872534, 0.2777274 ],\n",
       "        [0.03952828, 0.35645124, 0.06597532],\n",
       "        [0.48023317, 0.77472657, 0.72886036],\n",
       "        [0.19787956, 0.90877192, 0.60171   ],\n",
       "        [0.85523898, 0.76413881, 0.04961411],\n",
       "        [0.17627362, 0.77807695, 0.03875948]]),\n",
       " array([[0.1638618 , 0.8728502 , 0.79397093],\n",
       "        [0.90118677, 0.03148971, 0.30865931],\n",
       "        [0.62193432, 0.28213894, 0.46366853],\n",
       "        [0.6902412 , 0.28590505, 0.30879851],\n",
       "        [0.13685699, 0.88594611, 0.84611164],\n",
       "        [0.03952828, 0.97430917, 0.95100319],\n",
       "        [0.48023317, 0.53494551, 0.47865733],\n",
       "        [0.19787956, 0.84458738, 0.75111263],\n",
       "        [0.85523898, 0.10561078, 0.19326385],\n",
       "        [0.17627362, 0.8605475 , 0.77931921]]),\n",
       " 37.95685292342069,\n",
       " -63.91370584684138,\n",
       " -62.09819528887711]"
      ]
     },
     "execution_count": 6,
     "metadata": {},
     "output_type": "execute_result"
    }
   ],
   "source": [
    "u = cop.simulate(n=10, seeds=[1, 2, 3])\n",
    "fcts = [\n",
    "  cop.pdf,\n",
    "  cop.rosenblatt,\n",
    "  cop.inverse_rosenblatt,\n",
    "  cop.loglik,\n",
    "  cop.aic,\n",
    "  cop.bic,\n",
    "]\n",
    "[f(u) for f in fcts]"
   ]
  },
  {
   "cell_type": "markdown",
   "metadata": {},
   "source": [
    "Create a vine copula model"
   ]
  },
  {
   "cell_type": "markdown",
   "metadata": {},
   "source": [
    "Different ways to fit a copula (when the families and structure are known)..."
   ]
  },
  {
   "cell_type": "code",
   "execution_count": 7,
   "metadata": {},
   "outputs": [
    {
     "name": "stdout",
     "output_type": "stream",
     "text": [
      "<pyvinecopulib.FitControlsVinecop>\n",
      "Family set: BB1\n",
      "Parametric method: mle\n",
      "Nonparametric method: constant\n",
      "Nonparametric multiplier: 1\n",
      "Weights: no\n",
      "Selection criterion: bic\n",
      "Preselect families: yes\n",
      "mBIC prior probability: 0.9\n",
      "Truncation level: none (default)\n",
      "Tree criterion: tau\n",
      "Threshold: 0\n",
      "Select truncation level: no\n",
      "Select threshold: no\n",
      "Select families: yes\n",
      "Show trace: no\n",
      "Number of threads: 1\n",
      "MST algorithm: prim\n",
      "\n",
      "<pyvinecopulib.Vinecop> Vinecop model with 3 variables\n",
      "tree edge conditioned variables conditioning variables var_types family rotation parameters  df   tau \n",
      "   1    1                  3, 1                             c, c    BB1       90 2.93, 2.02 2.0 -0.80 \n",
      "   1    2                  2, 1                             c, c    BB1       90 2.98, 2.04 2.0 -0.80 \n",
      "   2    1                  3, 2                      1      c, c    BB1       90 2.73, 2.04 2.0 -0.79 \n",
      "\n",
      "<pyvinecopulib.Vinecop> Vinecop model with 3 variables\n",
      "tree edge conditioned variables conditioning variables var_types family rotation parameters  df   tau \n",
      "   1    1                  3, 1                             c, c    BB1       90 2.93, 2.02 2.0 -0.80 \n",
      "   1    2                  2, 1                             c, c    BB1       90 2.98, 2.04 2.0 -0.80 \n",
      "   2    1                  3, 2                      1      c, c    BB1       90 2.73, 2.04 2.0 -0.79 \n",
      "\n"
     ]
    }
   ],
   "source": [
    "u = cop.simulate(n=1000, seeds=[1, 2, 3])\n",
    "\n",
    "# Define first an object to control the fits:\n",
    "#    - pv.FitControlsVinecop objects store the controls\n",
    "#    - here, we only restrict the parametric family\n",
    "#    - see help(pv.FitControlsVinecop) for more details\n",
    "controls = pv.FitControlsVinecop(family_set=[pv.BicopFamily.bb1])\n",
    "print(controls)\n",
    "\n",
    "# Create a new object an select family and parameters by fitting to data\n",
    "cop2 = pv.Vinecop.from_structure_or_matrix(matrix=mat, pair_copulas=pcs)\n",
    "cop2.select(data=u, controls=controls)\n",
    "print(cop2)\n",
    "\n",
    "# Otherwise, create directly from data\n",
    "cop2 = pv.Vinecop.from_data(data=u, matrix=mat, controls=controls)\n",
    "print(cop2)"
   ]
  },
  {
   "cell_type": "markdown",
   "metadata": {},
   "source": [
    "When nothing is known, there are also two ways to fit a copula..."
   ]
  },
  {
   "cell_type": "code",
   "execution_count": 8,
   "metadata": {},
   "outputs": [
    {
     "name": "stdout",
     "output_type": "stream",
     "text": [
      "<pyvinecopulib.Vinecop> Vinecop model with 3 variables\n",
      "tree edge conditioned variables conditioning variables var_types family rotation parameters  df   tau \n",
      "   1    1                  2, 1                             c, c    BB1       90 2.98, 2.04 2.0 -0.80 \n",
      "   1    2                  1, 3                             c, c    BB6       90 1.54, 3.96 2.0 -0.81 \n",
      "   2    1                  2, 3                      1      c, c    BB1      270 2.44, 2.09 2.0 -0.78 \n",
      "\n",
      "<pyvinecopulib.Vinecop> Vinecop model with 3 variables\n",
      "tree edge conditioned variables conditioning variables var_types family rotation parameters  df   tau \n",
      "   1    1                  2, 1                             c, c    BB1       90 2.98, 2.04 2.0 -0.80 \n",
      "   1    2                  1, 3                             c, c    BB6       90 1.54, 3.96 2.0 -0.81 \n",
      "   2    1                  2, 3                      1      c, c    BB1      270 2.44, 2.09 2.0 -0.78 \n",
      "\n",
      "[[1 3 3]\n",
      " [3 1 0]\n",
      " [2 0 0]]\n",
      "[[1 3 3]\n",
      " [3 1 0]\n",
      " [2 0 0]]\n"
     ]
    },
    {
     "data": {
      "image/png": "[encoded data removed]",
      "text/plain": [
       "<Figure size 500x800 with 2 Axes>"
      ]
     },
     "metadata": {},
     "output_type": "display_data"
    }
   ],
   "source": [
    "# Create a new object and select strucutre, family, and parameters\n",
    "cop3 = pv.Vinecop(d=3)\n",
    "cop3.select(data=u)\n",
    "print(cop3)\n",
    "\n",
    "# Otherwise, create directly from data\n",
    "cop3 = pv.Vinecop.from_data(data=u)\n",
    "print(cop3)\n",
    "cop3.plot()"
   ]
  },
  {
   "cell_type": "code",
   "execution_count": 9,
   "metadata": {},
   "outputs": [
    {
     "ename": "TypeError",
     "evalue": "__init__(): incompatible function arguments. The following argument types are supported:\n    1. __init__(self, family: pyvinecopulib.BicopFamily = BicopFamily.indep, rotation: int = 0, parameters: numpy.ndarray[dtype=float64, shape=(*, *)] = array([], shape=(0, 0), dtype=float64), var_types: collections.abc.Sequence[str] = ['c', 'c']) -> None\n\nInvoked with types: pyvinecopulib.Bicop, pyvinecopulib.BicopFamily, int, list",
     "output_type": "error",
     "traceback": [
      "\u001b[0;31m---------------------------------------------------------------------------\u001b[0m",
      "\u001b[0;31mTypeError\u001b[0m                                 Traceback (most recent call last)",
      "Cell \u001b[0;32mIn[9], line 5\u001b[0m\n\u001b[1;32m      2\u001b[0m cvine \u001b[38;5;241m=\u001b[39m pv\u001b[38;5;241m.\u001b[39mCVineStructure([\u001b[38;5;241m4\u001b[39m, \u001b[38;5;241m3\u001b[39m, \u001b[38;5;241m2\u001b[39m, \u001b[38;5;241m1\u001b[39m])\n\u001b[1;32m      3\u001b[0m \u001b[38;5;66;03m# specify pair-copulas in every tree\u001b[39;00m\n\u001b[1;32m      4\u001b[0m tree1 \u001b[38;5;241m=\u001b[39m [\n\u001b[0;32m----> 5\u001b[0m   \u001b[43mpv\u001b[49m\u001b[38;5;241;43m.\u001b[39;49m\u001b[43mBicop\u001b[49m\u001b[43m(\u001b[49m\u001b[43mpv\u001b[49m\u001b[38;5;241;43m.\u001b[39;49m\u001b[43mBicopFamily\u001b[49m\u001b[38;5;241;43m.\u001b[39;49m\u001b[43mgaussian\u001b[49m\u001b[43m,\u001b[49m\u001b[43m \u001b[49m\u001b[38;5;241;43m0\u001b[39;49m\u001b[43m,\u001b[49m\u001b[43m \u001b[49m\u001b[43m[\u001b[49m\u001b[38;5;241;43m0.5\u001b[39;49m\u001b[43m]\u001b[49m\u001b[43m)\u001b[49m,\n\u001b[1;32m      6\u001b[0m   pv\u001b[38;5;241m.\u001b[39mBicop(pv\u001b[38;5;241m.\u001b[39mBicopFamily\u001b[38;5;241m.\u001b[39mclayton, \u001b[38;5;241m0\u001b[39m, [\u001b[38;5;241m3\u001b[39m]),\n\u001b[1;32m      7\u001b[0m   pv\u001b[38;5;241m.\u001b[39mBicop(pv\u001b[38;5;241m.\u001b[39mBicopFamily\u001b[38;5;241m.\u001b[39mstudent, \u001b[38;5;241m0\u001b[39m, [\u001b[38;5;241m0.4\u001b[39m, \u001b[38;5;241m4\u001b[39m]),\n\u001b[1;32m      8\u001b[0m ]\n\u001b[1;32m      9\u001b[0m tree2 \u001b[38;5;241m=\u001b[39m [\n\u001b[1;32m     10\u001b[0m   pv\u001b[38;5;241m.\u001b[39mBicop(pv\u001b[38;5;241m.\u001b[39mBicopFamily\u001b[38;5;241m.\u001b[39mindep),\n\u001b[1;32m     11\u001b[0m   pv\u001b[38;5;241m.\u001b[39mBicop(pv\u001b[38;5;241m.\u001b[39mBicopFamily\u001b[38;5;241m.\u001b[39mgaussian, \u001b[38;5;241m0\u001b[39m, [\u001b[38;5;241m0.5\u001b[39m]),\n\u001b[1;32m     12\u001b[0m ]\n\u001b[1;32m     13\u001b[0m tree3 \u001b[38;5;241m=\u001b[39m [pv\u001b[38;5;241m.\u001b[39mBicop(pv\u001b[38;5;241m.\u001b[39mBicopFamily\u001b[38;5;241m.\u001b[39mgaussian)]\n",
      "\u001b[0;31mTypeError\u001b[0m: __init__(): incompatible function arguments. The following argument types are supported:\n    1. __init__(self, family: pyvinecopulib.BicopFamily = BicopFamily.indep, rotation: int = 0, parameters: numpy.ndarray[dtype=float64, shape=(*, *)] = array([], shape=(0, 0), dtype=float64), var_types: collections.abc.Sequence[str] = ['c', 'c']) -> None\n\nInvoked with types: pyvinecopulib.Bicop, pyvinecopulib.BicopFamily, int, list"
     ]
    }
   ],
   "source": [
    "# create a C-vine structure with root node 1 in first tree, 2 in second, ...\n",
    "cvine = pv.CVineStructure([4, 3, 2, 1])\n",
    "# specify pair-copulas in every tree\n",
    "tree1 = [\n",
    "  pv.Bicop(pv.BicopFamily.gaussian, 0, [0.5]),\n",
    "  pv.Bicop(pv.BicopFamily.clayton, 0, [3]),\n",
    "  pv.Bicop(pv.BicopFamily.student, 0, [0.4, 4]),\n",
    "]\n",
    "tree2 = [\n",
    "  pv.Bicop(pv.BicopFamily.indep),\n",
    "  pv.Bicop(pv.BicopFamily.gaussian, 0, [0.5]),\n",
    "]\n",
    "tree3 = [pv.Bicop(pv.BicopFamily.gaussian)]\n",
    "\n",
    "# instantiate C-vine copula model\n",
    "cop = pv.Vinecop(cvine, [tree1, tree2, tree3])\n",
    "print(cop)\n",
    "cop.plot()"
   ]
  }
 ],
 "metadata": {
  "kernelspec": {
   "display_name": "base",
   "language": "python",
   "name": "python3"
  },
  "language_info": {
   "codemirror_mode": {
    "name": "ipython",
    "version": 3
   },
   "file_extension": ".py",
   "mimetype": "text/x-python",
   "name": "python",
   "nbconvert_exporter": "python",
   "pygments_lexer": "ipython3",
   "version": "3.11.10"
  }
 },
 "nbformat": 4,
 "nbformat_minor": 2
}
