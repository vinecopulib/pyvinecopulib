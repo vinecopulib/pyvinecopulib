{
 "cells": [
  {
   "cell_type": "code",
   "execution_count": 1,
   "metadata": {},
   "outputs": [],
   "source": [
    "# Import the library\n",
    "import pyvinecopulib as pv\n",
    "import numpy as np"
   ]
  },
  {
   "cell_type": "code",
   "execution_count": 2,
   "metadata": {},
   "outputs": [
    {
     "name": "stdout",
     "output_type": "stream",
     "text": [
      "<pyvinecopulib.Vinecop>\n",
      "** Tree: 0\n",
      "3,1 <-> BB1 90°, parameters = 3\n",
      "2\n",
      "2,1 <-> BB1 90°, parameters = 3\n",
      "2\n",
      "** Tree: 1\n",
      "3,2 | 1 <-> BB1 90°, parameters = 3\n",
      "2\n",
      "\n"
     ]
    }
   ],
   "source": [
    "# Specify pair-copulas\n",
    "bicop = pv.Bicop(pv.BicopFamily.bb1, 90, [3, 2])\n",
    "pcs = [[bicop, bicop], [bicop]]\n",
    "\n",
    "# Specify R-vine matrix\n",
    "mat = np.array([[1,1,1], [2,2,0], [3, 0, 0]])\n",
    "\n",
    "# Set-up a vine copula\n",
    "cop = pv.Vinecop(pcs, mat)\n",
    "print(cop)"
   ]
  },
  {
   "cell_type": "code",
   "execution_count": 3,
   "metadata": {
    "scrolled": true
   },
   "outputs": [
    {
     "data": {
      "text/plain": [
       "[array([ 44.67583001,  54.34974545,  29.84989695,  19.18643731,\n",
       "        199.72159236, 944.18332674,  21.78049474,  43.78532554,\n",
       "          9.10911159,  13.39339764]),\n",
       " array([[0.1638618 , 0.8170847 , 0.12668051],\n",
       "        [0.90118677, 0.11345478, 0.2222099 ],\n",
       "        [0.62193432, 0.12286857, 0.39604429],\n",
       "        [0.6902412 , 0.78638305, 0.37455509],\n",
       "        [0.13685699, 0.10872534, 0.2777274 ],\n",
       "        [0.03952828, 0.35645124, 0.06597532],\n",
       "        [0.48023317, 0.77472657, 0.72886036],\n",
       "        [0.19787956, 0.90877192, 0.60171   ],\n",
       "        [0.85523898, 0.76413881, 0.04961411],\n",
       "        [0.17627362, 0.77807695, 0.03875948]]),\n",
       " array([[0.1638618 , 0.8728502 , 0.79397093],\n",
       "        [0.90118677, 0.03148971, 0.30865931],\n",
       "        [0.62193432, 0.28213894, 0.46366853],\n",
       "        [0.6902412 , 0.28590505, 0.30879851],\n",
       "        [0.13685699, 0.88594611, 0.84611164],\n",
       "        [0.03952828, 0.97430917, 0.95100319],\n",
       "        [0.48023317, 0.53494551, 0.47865733],\n",
       "        [0.19787956, 0.84458738, 0.75111263],\n",
       "        [0.85523898, 0.10561078, 0.19326385],\n",
       "        [0.17627362, 0.8605475 , 0.77931921]]),\n",
       " 37.9568529234207,\n",
       " -63.913705846841395,\n",
       " -62.09819528887712]"
      ]
     },
     "execution_count": 3,
     "metadata": {},
     "output_type": "execute_result"
    }
   ],
   "source": [
    "# Showcase some methods\n",
    "u = cop.simulate(n = 10, seeds = [1, 2, 3])\n",
    "fcts = [cop.pdf, cop.rosenblatt, cop.inverse_rosenblatt,\n",
    "        cop.loglik, cop.aic, cop.bic]\n",
    "[f(u) for f in fcts]"
   ]
  },
  {
   "cell_type": "code",
   "execution_count": 4,
   "metadata": {},
   "outputs": [
    {
     "name": "stdout",
     "output_type": "stream",
     "text": [
      "<pyvinecopulib.Vinecop>\n",
      "** Tree: 0\n",
      "3,1 <-> BB1 90°, parameters = 2.92727\n",
      "2.02245\n",
      "2,1 <-> BB1 90°, parameters = 2.98212\n",
      "2.04269\n",
      "** Tree: 1\n",
      "3,2 | 1 <-> BB1 90°, parameters = 2.72951\n",
      "2.04219\n",
      "\n",
      "<pyvinecopulib.Vinecop>\n",
      "** Tree: 0\n",
      "3,1 <-> BB1 90°, parameters = 2.92727\n",
      "2.02245\n",
      "2,1 <-> BB1 90°, parameters = 2.98212\n",
      "2.04269\n",
      "** Tree: 1\n",
      "3,2 | 1 <-> BB1 90°, parameters = 2.72951\n",
      "2.04219\n",
      "\n"
     ]
    }
   ],
   "source": [
    "# Different ways to fit a copula (when the families and structure are known)...\n",
    "u = cop.simulate(n = 1000, seeds = [1, 2, 3])\n",
    "\n",
    "# Define first an object to control the fits:\n",
    "#    - pv.FitControlsVinecop objects store the controls\n",
    "#    - here, we only restrict the parametric family\n",
    "#    - see help(pv.FitControlsVinecop) for more details\n",
    "controls = pv.FitControlsVinecop(family_set = [pv.BicopFamily.bb1])\n",
    "\n",
    "# Create a new object an sets its parameters by fitting afterwards\n",
    "cop2 = pv.Vinecop(pcs, mat)\n",
    "cop2.select_families(data = u, controls = controls)\n",
    "print(cop2)\n",
    "\n",
    "# Otherwise, create directly from data\n",
    "cop2 = pv.Vinecop(data = u, matrix = mat, controls = controls)\n",
    "print(cop2)"
   ]
  },
  {
   "cell_type": "code",
   "execution_count": 5,
   "metadata": {},
   "outputs": [
    {
     "name": "stdout",
     "output_type": "stream",
     "text": [
      "<pyvinecopulib.Vinecop>\n",
      "** Tree: 0\n",
      "2,1 <-> BB1 90°, parameters = 2.98212\n",
      "2.04269\n",
      "1,3 <-> BB6 90°, parameters = 1.54273\n",
      "3.96417\n",
      "** Tree: 1\n",
      "2,3 | 1 <-> Gumbel 90°, parameters = 4.82967\n",
      "\n",
      "<pyvinecopulib.Vinecop>\n",
      "** Tree: 0\n",
      "2,1 <-> BB1 90°, parameters = 2.98212\n",
      "2.04269\n",
      "1,3 <-> BB6 90°, parameters = 1.54273\n",
      "3.96417\n",
      "** Tree: 1\n",
      "2,3 | 1 <-> Gumbel 90°, parameters = 4.82967\n",
      "\n"
     ]
    }
   ],
   "source": [
    "# When nothing is known, there are also two ways to fit a copula...\n",
    "\n",
    "# Create a new object an selects families and parameters afterwards\n",
    "cop3 = pv.Vinecop(d = 3)\n",
    "cop3.select_all(data = u)\n",
    "print(cop3)\n",
    "\n",
    "# Otherwise, create directly from data\n",
    "cop3 = pv.Vinecop(data = u)\n",
    "print(cop3)"
   ]
  }
 ],
 "metadata": {
  "kernelspec": {
   "display_name": "Python 3",
   "language": "python",
   "name": "python3"
  },
  "language_info": {
   "codemirror_mode": {
    "name": "ipython",
    "version": 3
   },
   "file_extension": ".py",
   "mimetype": "text/x-python",
   "name": "python",
   "nbconvert_exporter": "python",
   "pygments_lexer": "ipython3",
   "version": "3.7.3"
  }
 },
 "nbformat": 4,
 "nbformat_minor": 2
}
