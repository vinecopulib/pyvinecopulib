{
 "cells": [
  {
   "cell_type": "markdown",
   "metadata": {},
   "source": [
    "# Vine copulas for discrete variables\n",
    "\n",
    "## Import the required libraries"
   ]
  },
  {
   "cell_type": "code",
   "execution_count": 1,
   "metadata": {},
   "outputs": [],
   "source": [
    "import math\n",
    "\n",
    "import numpy as np\n",
    "\n",
    "import pyvinecopulib as pv"
   ]
  },
  {
   "cell_type": "markdown",
   "metadata": {},
   "source": [
    "## Simulate dummy data and convert to pseudo-observations"
   ]
  },
  {
   "cell_type": "code",
   "execution_count": 2,
   "metadata": {},
   "outputs": [],
   "source": [
    "np.random.seed(1234)  # seed for the random generator\n",
    "n = 30\n",
    "d = 5\n",
    "x = np.random.normal(size=n).reshape(n, 1) * np.ones(\n",
    "  (n, d)\n",
    ") + 0.5 * np.random.normal(size=(n, d))\n",
    "\n",
    "# Convert to pseudo-observations\n",
    "u = pv.to_pseudo_obs(x)"
   ]
  },
  {
   "cell_type": "markdown",
   "metadata": {},
   "source": [
    "## Fit a continuous model"
   ]
  },
  {
   "cell_type": "code",
   "execution_count": 3,
   "metadata": {},
   "outputs": [
    {
     "name": "stdout",
     "output_type": "stream",
     "text": [
      "<pyvinecopulib.Vinecop> Vinecop model with 5 variables\n",
      "tree edge conditioned variables conditioning variables var_types   family rotation parameters  df  tau \n",
      "   1    1                  4, 1                             c, c Gaussian        0       0.85 1.0 0.64 \n",
      "   1    2                  1, 3                             c, c Gaussian        0       0.85 1.0 0.64 \n",
      "   1    3                  2, 5                             c, c Gaussian        0       0.90 1.0 0.71 \n",
      "   1    4                  3, 5                             c, c Gaussian        0       0.89 1.0 0.70 \n",
      "   2    1                  4, 3                      1      c, c Gaussian        0       0.36 1.0 0.24 \n",
      "   2    2                  1, 5                      3      c, c Gaussian        0       0.30 1.0 0.19 \n",
      "   2    3                  2, 3                      5      c, c Gaussian        0       0.04 1.0 0.03 \n",
      "   3    1                  4, 5                   3, 1      c, c Gaussian        0       0.11 1.0 0.07 \n",
      "   3    2                  1, 2                   5, 3      c, c Gaussian        0       0.10 1.0 0.07 \n",
      "   4    1                  4, 2                5, 3, 1      c, c Gaussian        0       0.30 1.0 0.19 \n",
      "\n"
     ]
    }
   ],
   "source": [
    "# Some fit controls\n",
    "controls = pv.FitControlsVinecop(family_set=[pv.BicopFamily.gaussian])\n",
    "\n",
    "\n",
    "# A continuous example\n",
    "fit_cont = pv.Vinecop.from_data(u, controls=controls)\n",
    "print(str(fit_cont))"
   ]
  },
  {
   "cell_type": "markdown",
   "metadata": {},
   "source": [
    "## Model for discrete data : transform to Poisson margins"
   ]
  },
  {
   "cell_type": "code",
   "execution_count": 4,
   "metadata": {},
   "outputs": [
    {
     "name": "stdout",
     "output_type": "stream",
     "text": [
      "<pyvinecopulib.Vinecop> Vinecop model with 5 variables\n",
      "tree edge conditioned variables conditioning variables var_types   family rotation parameters  df  tau \n",
      "   1    1                  1, 5                             d, d Gaussian        0       0.84 1.0 0.63 \n",
      "   1    2                  4, 3                             d, d Gaussian        0       0.81 1.0 0.60 \n",
      "   1    3                  2, 5                             d, d Gaussian        0       0.91 1.0 0.72 \n",
      "   1    4                  3, 5                             d, d Gaussian        0       0.84 1.0 0.64 \n",
      "   2    1                  1, 3                      5      d, d Gaussian        0       0.37 1.0 0.24 \n",
      "   2    2                  4, 5                      3      d, d Gaussian        0       0.29 1.0 0.18 \n",
      "   2    3                  2, 3                      5      d, d Gaussian        0       0.17 1.0 0.11 \n",
      "   3    1                  1, 4                   3, 5      d, d Gaussian        0       0.49 1.0 0.32 \n",
      "   3    2                  4, 2                   5, 3      d, d Gaussian        0       0.44 1.0 0.29 \n",
      "   4    1                  1, 2                4, 3, 5      d, d Gaussian        0       0.02 1.0 0.01 \n",
      "\n"
     ]
    }
   ],
   "source": [
    "# Percent Point Function (Inverse CDF, PPF)\n",
    "@np.vectorize\n",
    "def poisson_ppf(p, mu):\n",
    "  cumulative_prob = 0.0\n",
    "  k = 0\n",
    "  while cumulative_prob < p:\n",
    "    cumulative_prob += math.exp(-mu) * (mu**k) / math.factorial(k)\n",
    "    if cumulative_prob >= p:\n",
    "      return k\n",
    "    k += 1\n",
    "  return k  # In case p is exactly 1\n",
    "\n",
    "\n",
    "# Using Poisson(1) transformation\n",
    "# Cumulative Distribution Function (CDF)\n",
    "@np.vectorize\n",
    "def poisson_cdf(k, mu):\n",
    "  return sum(\n",
    "    math.exp(-mu) * (mu**i) / math.factorial(i) for i in range(int(k) + 1)\n",
    "  )\n",
    "\n",
    "\n",
    "x_poisson = poisson_ppf(u, 1)\n",
    "u_disc = np.hstack(\n",
    "  (poisson_cdf(x_poisson, 1), poisson_cdf(x_poisson - 1, 1))\n",
    ")  # Discrete pseudo-observations\n",
    "\n",
    "# Fit vine copula model for discrete data\n",
    "fit_disc = pv.Vinecop.from_data(u_disc, var_types=[\"d\"] * 5, controls=controls)\n",
    "print(str(fit_disc))"
   ]
  },
  {
   "cell_type": "markdown",
   "metadata": {},
   "source": [
    "## Model for mixed data: only the first variable is transformed to a Poisson margin"
   ]
  },
  {
   "cell_type": "code",
   "execution_count": 5,
   "metadata": {},
   "outputs": [
    {
     "name": "stdout",
     "output_type": "stream",
     "text": [
      "<pyvinecopulib.Vinecop> Vinecop model with 5 variables\n",
      "tree edge conditioned variables conditioning variables var_types   family rotation parameters  df  tau \n",
      "   1    1                  1, 5                             d, c Gaussian        0       0.83 1.0 0.62 \n",
      "   1    2                  4, 3                             c, c Gaussian        0       0.82 1.0 0.61 \n",
      "   1    3                  2, 5                             c, c Gaussian        0       0.90 1.0 0.71 \n",
      "   1    4                  3, 5                             c, c Gaussian        0       0.89 1.0 0.70 \n",
      "   2    1                  1, 3                      5      d, c Gaussian        0       0.32 1.0 0.21 \n",
      "   2    2                  4, 5                      3      c, c Gaussian        0       0.24 1.0 0.15 \n",
      "   2    3                  2, 3                      5      c, c Gaussian        0       0.04 1.0 0.03 \n",
      "   3    1                  1, 4                   3, 5      d, c Gaussian        0       0.33 1.0 0.22 \n",
      "   3    2                  4, 2                   5, 3      c, c Gaussian        0       0.31 1.0 0.20 \n",
      "   4    1                  1, 2                4, 3, 5      d, c Gaussian        0       0.05 1.0 0.03 \n",
      "\n"
     ]
    }
   ],
   "source": [
    "# Transform first variable to Poisson margin\n",
    "x_poisson_mixed = poisson_ppf(u[:, 0], 1)\n",
    "u_disc_mixed = np.hstack(\n",
    "  (\n",
    "    poisson_cdf(x_poisson_mixed, 1).reshape(-1, 1),\n",
    "    u[:, 1:5],\n",
    "    poisson_cdf(x_poisson_mixed - 1, 1).reshape(-1, 1),\n",
    "  )\n",
    ")\n",
    "\n",
    "# Fit vine copula model for mixed data\n",
    "fit_mixed = pv.Vinecop.from_data(\n",
    "  u_disc_mixed, var_types=[\"d\"] + [\"c\"] * 4, controls=controls\n",
    ")\n",
    "print(str(fit_mixed))"
   ]
  }
 ],
 "metadata": {
  "kernelspec": {
   "display_name": "pyvinecopulib311",
   "language": "python",
   "name": "python3"
  },
  "language_info": {
   "codemirror_mode": {
    "name": "ipython",
    "version": 3
   },
   "file_extension": ".py",
   "mimetype": "text/x-python",
   "name": "python",
   "nbconvert_exporter": "python",
   "pygments_lexer": "ipython3",
   "version": "3.11.6"
  }
 },
 "nbformat": 4,
 "nbformat_minor": 2
}
