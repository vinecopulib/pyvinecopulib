{
 "cells": [
  {
   "cell_type": "markdown",
   "metadata": {},
   "source": [
    "# Benchmarking performance\n",
    "\n",
    "## Import the required libraries\n"
   ]
  },
  {
   "cell_type": "code",
   "execution_count": 1,
   "metadata": {
    "execution": {
     "iopub.execute_input": "2025-04-24T02:25:14.694224Z",
     "iopub.status.busy": "2025-04-24T02:25:14.693986Z",
     "iopub.status.idle": "2025-04-24T02:25:15.006292Z",
     "shell.execute_reply": "2025-04-24T02:25:15.005845Z"
    }
   },
   "outputs": [],
   "source": [
    "import timeit\n",
    "\n",
    "import numpy as np\n",
    "\n",
    "import pyvinecopulib as pv\n",
    "\n",
    "from collections import defaultdict\n",
    "\n",
    "\n",
    "def print_results(results, name):\n",
    "  print(\n",
    "    f\"{name}: min={min(results) * 1000:.6f}, mean={np.mean(results) * 1000:.6f}, max={max(results) * 1000:.6f}\"\n",
    "  )"
   ]
  },
  {
   "cell_type": "markdown",
   "metadata": {},
   "source": [
    "## Set the parameters for the benchmark"
   ]
  },
  {
   "cell_type": "code",
   "execution_count": 2,
   "metadata": {
    "execution": {
     "iopub.execute_input": "2025-04-24T02:25:15.008039Z",
     "iopub.status.busy": "2025-04-24T02:25:15.007731Z",
     "iopub.status.idle": "2025-04-24T02:25:15.010618Z",
     "shell.execute_reply": "2025-04-24T02:25:15.010393Z"
    }
   },
   "outputs": [],
   "source": [
    "# TODO: Check TLL because compiler might have large impact on performance there\n",
    "\n",
    "n = 1000\n",
    "d = 5\n",
    "repeats = 5\n",
    "\n",
    "\n",
    "def generate_data(n, d, seed=0):\n",
    "  np.random.seed(seed)\n",
    "  # Generate data\n",
    "  x = np.random.normal(size=n)[:, np.newaxis] * np.ones(\n",
    "    (n, d)\n",
    "  ) + 0.5 * np.random.normal(size=(n, d))\n",
    "\n",
    "  # Convert data to pseudo-observations\n",
    "  u = pv.to_pseudo_obs(x)\n",
    "\n",
    "  return u\n",
    "\n",
    "\n",
    "def generate_data_bicop(n, seed):\n",
    "  cop = pv.Bicop(family=pv.gaussian, parameters=np.array([[0.5]]))\n",
    "  return cop.simulate(n, seeds=[seed])"
   ]
  },
  {
   "cell_type": "markdown",
   "metadata": {},
   "source": [
    "## Bivariate copula benchmark"
   ]
  },
  {
   "cell_type": "code",
   "execution_count": 3,
   "metadata": {
    "execution": {
     "iopub.execute_input": "2025-04-24T02:25:15.011700Z",
     "iopub.status.busy": "2025-04-24T02:25:15.011561Z",
     "iopub.status.idle": "2025-04-24T02:25:15.640731Z",
     "shell.execute_reply": "2025-04-24T02:25:15.640438Z"
    }
   },
   "outputs": [
    {
     "name": "stdout",
     "output_type": "stream",
     "text": [
      "Unit (milliseconds, bicop):\n",
      "itau: min=69.619952, mean=108.542584, max=138.082729\n",
      "itau_par_method: min=10.003054, mean=10.805146, max=12.116266\n",
      "tll: min=5.403543, mean=5.558469, max=5.966208\n"
     ]
    }
   ],
   "source": [
    "def itau_bicop(u):\n",
    "  pv.Bicop.from_data(\n",
    "    u, controls=pv.FitControlsBicop(family_set=pv.itau, num_threads=1)\n",
    "  )\n",
    "\n",
    "\n",
    "def itau_par_method_bicop(u):\n",
    "  pv.Bicop.from_data(\n",
    "    u,\n",
    "    controls=pv.FitControlsBicop(\n",
    "      family_set=pv.itau, parametric_method=\"itau\", num_threads=1\n",
    "    ),\n",
    "  )\n",
    "\n",
    "\n",
    "def tll_bicop(u):\n",
    "  pv.Bicop.from_data(\n",
    "    u, controls=pv.FitControlsBicop(family_set=[pv.tll], num_threads=1)\n",
    "  )\n",
    "\n",
    "\n",
    "functions_to_benchmark_bicop = {\n",
    "  \"itau\": itau_bicop,\n",
    "  \"itau_par_method\": itau_par_method_bicop,\n",
    "  \"tll\": tll_bicop,\n",
    "}\n",
    "\n",
    "# Benchmark the functions\n",
    "results_bicop = defaultdict(list)\n",
    "for seed in range(repeats):\n",
    "  u = generate_data_bicop(n, seed)\n",
    "  for name, function in functions_to_benchmark_bicop.items():\n",
    "    tic = timeit.default_timer()\n",
    "    function(u)\n",
    "    toc = timeit.default_timer()\n",
    "    results_bicop[name].append(toc - tic)\n",
    "\n",
    "\n",
    "# Display benchmark results\n",
    "print(\"Unit (milliseconds, bicop):\")\n",
    "for name, result in results_bicop.items():\n",
    "  print_results(result, name)"
   ]
  },
  {
   "cell_type": "markdown",
   "metadata": {},
   "source": [
    "## Vine copula benchmark"
   ]
  },
  {
   "cell_type": "code",
   "execution_count": 4,
   "metadata": {
    "execution": {
     "iopub.execute_input": "2025-04-24T02:25:15.661641Z",
     "iopub.status.busy": "2025-04-24T02:25:15.661459Z",
     "iopub.status.idle": "2025-04-24T02:25:22.965926Z",
     "shell.execute_reply": "2025-04-24T02:25:22.965512Z"
    }
   },
   "outputs": [
    {
     "name": "stdout",
     "output_type": "stream",
     "text": [
      "Unit (milliseconds):\n",
      "itau: min=1051.921016, mean=1229.718778, max=1457.615717\n",
      "itau_par_method: min=131.477031, mean=138.356589, max=151.956707\n",
      "tll: min=85.055594, mean=90.453178, max=96.229217\n"
     ]
    }
   ],
   "source": [
    "# Various configurations of the `vinecop` function\n",
    "controls_itau = pv.FitControlsVinecop(family_set=pv.itau, num_threads=1)\n",
    "controls_itau_par_method = pv.FitControlsVinecop(\n",
    "  family_set=pv.itau, parametric_method=\"itau\", num_threads=1\n",
    ")\n",
    "controls_tll = pv.FitControlsVinecop(family_set=[pv.tll], num_threads=1)\n",
    "\n",
    "\n",
    "# Define two different configurations of the `vinecop` function\n",
    "def vinecop_itau(u):\n",
    "  return pv.Vinecop.from_data(u, controls=controls_itau)\n",
    "\n",
    "\n",
    "def vinecop_itau_par_method(u):\n",
    "  return pv.Vinecop.from_data(u, controls=controls_itau_par_method)\n",
    "\n",
    "\n",
    "def vinecop_tll(u):\n",
    "  return pv.Vinecop.from_data(u, controls=controls_tll)\n",
    "\n",
    "\n",
    "functions_to_benchmark = {\n",
    "  \"itau\": vinecop_itau,\n",
    "  \"itau_par_method\": vinecop_itau_par_method,\n",
    "  \"tll\": vinecop_tll,\n",
    "}\n",
    "\n",
    "# Benchmark the functions\n",
    "results = defaultdict(list)\n",
    "for seed in range(repeats):\n",
    "  u = generate_data(n, d, seed)\n",
    "  for name, function in functions_to_benchmark.items():\n",
    "    tic = timeit.default_timer()\n",
    "    function(u)\n",
    "    toc = timeit.default_timer()\n",
    "    results[name].append(toc - tic)\n",
    "\n",
    "\n",
    "# Display benchmark results\n",
    "print(\"Unit (milliseconds):\")\n",
    "for name, result in results.items():\n",
    "  print_results(result, name)\n",
    "\n",
    "# # Benchmark in C++ directly\n",
    "# results_cpp = defaultdict(list)\n",
    "# for seed in range(repeats):\n",
    "#   u = generate_data(n, d, seed)\n",
    "#   results_cpp_tmp = pv.pyvinecopulib_ext.benchmark(u)\n",
    "#   for key, value in zip(functions_to_benchmark.keys(), results_cpp_tmp):\n",
    "#     results_cpp[key].append(value)\n",
    "\n",
    "# # Display benchmark results\n",
    "# print(\"Unit (milliseconds, C++):\")\n",
    "# for name, result in results_cpp.items():\n",
    "#   print_results(result, name)"
   ]
  }
 ],
 "metadata": {
  "kernelspec": {
   "display_name": "pyvinecopulib",
   "language": "python",
   "name": "python3"
  },
  "language_info": {
   "codemirror_mode": {
    "name": "ipython",
    "version": 3
   },
   "file_extension": ".py",
   "mimetype": "text/x-python",
   "name": "python",
   "nbconvert_exporter": "python",
   "pygments_lexer": "ipython3",
   "version": "3.11.12"
  }
 },
 "nbformat": 4,
 "nbformat_minor": 2
}
