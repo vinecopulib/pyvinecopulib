{
 "cells": [
  {
   "cell_type": "markdown",
   "metadata": {},
   "source": [
    "# Benchmarking performance\n",
    "\n",
    "## Import the required libraries\n"
   ]
  },
  {
   "cell_type": "code",
   "execution_count": 1,
   "metadata": {
    "execution": {
     "iopub.execute_input": "2025-04-24T03:39:36.821197Z",
     "iopub.status.busy": "2025-04-24T03:39:36.820841Z",
     "iopub.status.idle": "2025-04-24T03:39:37.419552Z",
     "shell.execute_reply": "2025-04-24T03:39:37.418818Z"
    }
   },
   "outputs": [],
   "source": [
    "import timeit\n",
    "\n",
    "import numpy as np\n",
    "\n",
    "import pyvinecopulib as pv\n",
    "\n",
    "from collections import defaultdict\n",
    "\n",
    "\n",
    "def print_results(results, name):\n",
    "  print(\n",
    "    f\"{name}: min={min(results) * 1000:.6f}, mean={np.mean(results) * 1000:.6f}, max={max(results) * 1000:.6f}\"\n",
    "  )"
   ]
  },
  {
   "cell_type": "markdown",
   "metadata": {},
   "source": [
    "## Set the parameters for the benchmark"
   ]
  },
  {
   "cell_type": "code",
   "execution_count": 2,
   "metadata": {
    "execution": {
     "iopub.execute_input": "2025-04-24T03:39:37.423500Z",
     "iopub.status.busy": "2025-04-24T03:39:37.423129Z",
     "iopub.status.idle": "2025-04-24T03:39:37.428981Z",
     "shell.execute_reply": "2025-04-24T03:39:37.428444Z"
    }
   },
   "outputs": [],
   "source": [
    "# TODO: Check TLL because compiler might have large impact on performance there\n",
    "\n",
    "n = 1000\n",
    "d = 5\n",
    "repeats = 5\n",
    "\n",
    "\n",
    "def generate_data(n, d, seed=0):\n",
    "  np.random.seed(seed)\n",
    "  # Generate data\n",
    "  x = np.random.normal(size=n)[:, np.newaxis] * np.ones(\n",
    "    (n, d)\n",
    "  ) + 0.5 * np.random.normal(size=(n, d))\n",
    "\n",
    "  # Convert data to pseudo-observations\n",
    "  u = pv.to_pseudo_obs(x)\n",
    "\n",
    "  return u\n",
    "\n",
    "\n",
    "def generate_data_bicop(n, seed):\n",
    "  cop = pv.Bicop(family=pv.gaussian, parameters=np.array([[0.5]]))\n",
    "  return cop.simulate(n, seeds=[seed])"
   ]
  },
  {
   "cell_type": "markdown",
   "metadata": {},
   "source": [
    "## Bivariate copula benchmark"
   ]
  },
  {
   "cell_type": "code",
   "execution_count": 3,
   "metadata": {
    "execution": {
     "iopub.execute_input": "2025-04-24T03:39:37.431334Z",
     "iopub.status.busy": "2025-04-24T03:39:37.430995Z",
     "iopub.status.idle": "2025-04-24T03:39:38.743153Z",
     "shell.execute_reply": "2025-04-24T03:39:38.742525Z"
    }
   },
   "outputs": [
    {
     "name": "stdout",
     "output_type": "stream",
     "text": [
      "Unit (milliseconds, bicop):\n",
      "itau: min=134.766681, mean=227.786324, max=290.670977\n",
      "itau_par_method: min=20.589506, mean=21.285831, max=23.578367\n",
      "tll: min=11.247802, mean=11.617707, max=11.900096\n"
     ]
    }
   ],
   "source": [
    "def itau_bicop(u):\n",
    "  pv.Bicop.from_data(\n",
    "    u, controls=pv.FitControlsBicop(family_set=pv.itau, num_threads=1)\n",
    "  )\n",
    "\n",
    "\n",
    "def itau_par_method_bicop(u):\n",
    "  pv.Bicop.from_data(\n",
    "    u,\n",
    "    controls=pv.FitControlsBicop(\n",
    "      family_set=pv.itau, parametric_method=\"itau\", num_threads=1\n",
    "    ),\n",
    "  )\n",
    "\n",
    "\n",
    "def tll_bicop(u):\n",
    "  pv.Bicop.from_data(\n",
    "    u, controls=pv.FitControlsBicop(family_set=[pv.tll], num_threads=1)\n",
    "  )\n",
    "\n",
    "\n",
    "functions_to_benchmark_bicop = {\n",
    "  \"itau\": itau_bicop,\n",
    "  \"itau_par_method\": itau_par_method_bicop,\n",
    "  \"tll\": tll_bicop,\n",
    "}\n",
    "\n",
    "# Benchmark the functions\n",
    "results_bicop = defaultdict(list)\n",
    "for seed in range(repeats):\n",
    "  u = generate_data_bicop(n, seed)\n",
    "  for name, function in functions_to_benchmark_bicop.items():\n",
    "    tic = timeit.default_timer()\n",
    "    function(u)\n",
    "    toc = timeit.default_timer()\n",
    "    results_bicop[name].append(toc - tic)\n",
    "\n",
    "\n",
    "# Display benchmark results\n",
    "print(\"Unit (milliseconds, bicop):\")\n",
    "for name, result in results_bicop.items():\n",
    "  print_results(result, name)"
   ]
  },
  {
   "cell_type": "markdown",
   "metadata": {},
   "source": [
    "## Vine copula benchmark"
   ]
  },
  {
   "cell_type": "code",
   "execution_count": 4,
   "metadata": {
    "execution": {
     "iopub.execute_input": "2025-04-24T03:39:38.790089Z",
     "iopub.status.busy": "2025-04-24T03:39:38.789743Z",
     "iopub.status.idle": "2025-04-24T03:39:49.888982Z",
     "shell.execute_reply": "2025-04-24T03:39:49.888153Z"
    }
   },
   "outputs": [
    {
     "name": "stdout",
     "output_type": "stream",
     "text": [
      "Unit (milliseconds):\n",
      "itau: min=1613.363917, mean=1872.592578, max=2094.827519\n",
      "itau_par_method: min=198.184067, mean=207.710620, max=212.484254\n",
      "tll: min=132.396423, mean=134.724716, max=137.676346\n"
     ]
    }
   ],
   "source": [
    "# Various configurations of the `vinecop` function\n",
    "controls_itau = pv.FitControlsVinecop(family_set=pv.itau, num_threads=1)\n",
    "controls_itau_par_method = pv.FitControlsVinecop(\n",
    "  family_set=pv.itau, parametric_method=\"itau\", num_threads=1\n",
    ")\n",
    "controls_tll = pv.FitControlsVinecop(family_set=[pv.tll], num_threads=1)\n",
    "\n",
    "\n",
    "# Define two different configurations of the `vinecop` function\n",
    "def vinecop_itau(u):\n",
    "  return pv.Vinecop.from_data(u, controls=controls_itau)\n",
    "\n",
    "\n",
    "def vinecop_itau_par_method(u):\n",
    "  return pv.Vinecop.from_data(u, controls=controls_itau_par_method)\n",
    "\n",
    "\n",
    "def vinecop_tll(u):\n",
    "  return pv.Vinecop.from_data(u, controls=controls_tll)\n",
    "\n",
    "\n",
    "functions_to_benchmark = {\n",
    "  \"itau\": vinecop_itau,\n",
    "  \"itau_par_method\": vinecop_itau_par_method,\n",
    "  \"tll\": vinecop_tll,\n",
    "}\n",
    "\n",
    "# Benchmark the functions\n",
    "results = defaultdict(list)\n",
    "for seed in range(repeats):\n",
    "  u = generate_data(n, d, seed)\n",
    "  for name, function in functions_to_benchmark.items():\n",
    "    tic = timeit.default_timer()\n",
    "    function(u)\n",
    "    toc = timeit.default_timer()\n",
    "    results[name].append(toc - tic)\n",
    "\n",
    "\n",
    "# Display benchmark results\n",
    "print(\"Unit (milliseconds):\")\n",
    "for name, result in results.items():\n",
    "  print_results(result, name)\n",
    "\n",
    "# # Benchmark in C++ directly\n",
    "# results_cpp = defaultdict(list)\n",
    "# for seed in range(repeats):\n",
    "#   u = generate_data(n, d, seed)\n",
    "#   results_cpp_tmp = pv.pyvinecopulib_ext.benchmark(u)\n",
    "#   for key, value in zip(functions_to_benchmark.keys(), results_cpp_tmp):\n",
    "#     results_cpp[key].append(value)\n",
    "\n",
    "# # Display benchmark results\n",
    "# print(\"Unit (milliseconds, C++):\")\n",
    "# for name, result in results_cpp.items():\n",
    "#   print_results(result, name)"
   ]
  }
 ],
 "metadata": {
  "kernelspec": {
   "display_name": "pyvinecopulib",
   "language": "python",
   "name": "python3"
  },
  "language_info": {
   "codemirror_mode": {
    "name": "ipython",
    "version": 3
   },
   "file_extension": ".py",
   "mimetype": "text/x-python",
   "name": "python",
   "nbconvert_exporter": "python",
   "pygments_lexer": "ipython3",
   "version": "3.11.12"
  }
 },
 "nbformat": 4,
 "nbformat_minor": 2
}
