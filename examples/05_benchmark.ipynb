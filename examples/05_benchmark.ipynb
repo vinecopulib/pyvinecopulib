{
 "cells": [
  {
   "cell_type": "markdown",
   "metadata": {},
   "source": [
    "## Import the required libraries\n"
   ]
  },
  {
   "cell_type": "code",
   "execution_count": 1,
   "metadata": {},
   "outputs": [],
   "source": [
    "import timeit\n",
    "\n",
    "import numpy as np\n",
    "\n",
    "import pyvinecopulib as pv\n",
    "\n",
    "from collections import defaultdict"
   ]
  },
  {
   "cell_type": "markdown",
   "metadata": {},
   "source": [
    "## Set the parameters for the benchmark"
   ]
  },
  {
   "cell_type": "code",
   "execution_count": 2,
   "metadata": {},
   "outputs": [],
   "source": [
    "# TODO: Check TLL because compiler might have large impact on performance there\n",
    "\n",
    "n = 1000\n",
    "d = 5\n",
    "repeats = 10\n",
    "\n",
    "\n",
    "def generate_data(n, d, seed=0):\n",
    "  np.random.seed(seed)\n",
    "  # Generate data\n",
    "  x = np.random.normal(size=n).reshape(n, 1) * np.ones(\n",
    "    (n, d)\n",
    "  ) + 0.5 * np.random.normal(size=(n, d))\n",
    "\n",
    "  # Convert data to pseudo-observations\n",
    "  u = pv.to_pseudo_obs(x)\n",
    "\n",
    "  return u"
   ]
  },
  {
   "cell_type": "markdown",
   "metadata": {},
   "source": [
    "## Define the functions to be used in the benchmark"
   ]
  },
  {
   "cell_type": "code",
   "execution_count": 3,
   "metadata": {},
   "outputs": [],
   "source": [
    "controls_itau = pv.FitControlsVinecop(family_set=pv.itau, num_threads=1)\n",
    "controls_itau_par_method = pv.FitControlsVinecop(\n",
    "  family_set=pv.itau, parametric_method=\"itau\", num_threads=1\n",
    ")\n",
    "controls_tll = pv.FitControlsVinecop(family_set=[pv.tll], num_threads=1)\n",
    "\n",
    "\n",
    "# Define two different configurations of the `vinecop` function\n",
    "def vinecop_itau(u):\n",
    "  return pv.Vinecop.from_data(u, controls=controls_itau)\n",
    "\n",
    "\n",
    "def vinecop_itau_par_method(u):\n",
    "  return pv.Vinecop.from_data(u, controls=controls_itau_par_method)\n",
    "\n",
    "\n",
    "def vinecop_tll(u):\n",
    "  return pv.Vinecop.from_data(u, controls=controls_tll)\n",
    "\n",
    "\n",
    "functions_to_benchmark = {\n",
    "  \"itau\": vinecop_itau,\n",
    "  \"itau_par_method\": vinecop_itau_par_method,\n",
    "  \"tll\": vinecop_tll,\n",
    "}"
   ]
  },
  {
   "cell_type": "markdown",
   "metadata": {},
   "source": [
    "## Run the benchmark"
   ]
  },
  {
   "cell_type": "code",
   "execution_count": 4,
   "metadata": {},
   "outputs": [
    {
     "name": "stdout",
     "output_type": "stream",
     "text": [
      "Unit: milliseconds:\n",
      "itau: min=1371.399782, mean=1560.420646, max=1805.472184\n",
      "itau_par_method: min=178.614352, mean=184.697386, max=191.615308\n",
      "tll: min=379.891949, mean=388.168963, max=398.945237\n"
     ]
    }
   ],
   "source": [
    "# Benchmark the functions\n",
    "results = defaultdict(list)\n",
    "for seed in range(repeats):\n",
    "  u = generate_data(n, d, seed)\n",
    "  for name, function in functions_to_benchmark.items():\n",
    "    tic = timeit.default_timer()\n",
    "    function(u)\n",
    "    toc = timeit.default_timer()\n",
    "    results[name].append(toc - tic)\n",
    "\n",
    "\n",
    "def print_results(results, name):\n",
    "  print(\n",
    "    f\"{name}: min={min(results)*1000:.6f}, mean={np.mean(results)*1000:.6f}, max={max(results)*1000:.6f}\"\n",
    "  )\n",
    "\n",
    "\n",
    "# Display benchmark results\n",
    "print(\"Unit: milliseconds:\")\n",
    "for name, result in results.items():\n",
    "  print_results(result, name)"
   ]
  }
 ],
 "metadata": {
  "kernelspec": {
   "display_name": "pyvinecopulib311",
   "language": "python",
   "name": "python3"
  },
  "language_info": {
   "codemirror_mode": {
    "name": "ipython",
    "version": 3
   },
   "file_extension": ".py",
   "mimetype": "text/x-python",
   "name": "python",
   "nbconvert_exporter": "python",
   "pygments_lexer": "ipython3",
   "version": "3.11.6"
  }
 },
 "nbformat": 4,
 "nbformat_minor": 2
}
