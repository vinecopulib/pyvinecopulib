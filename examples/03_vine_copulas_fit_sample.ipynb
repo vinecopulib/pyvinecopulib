{
 "cells": [
  {
   "cell_type": "markdown",
   "metadata": {},
   "source": [
    "# Fitting a vine copula on dataset and sampling from the model\n",
    "\n",
    "## Import the required libraries"
   ]
  },
  {
   "cell_type": "code",
   "execution_count": 1,
   "metadata": {
    "execution": {
     "iopub.execute_input": "2025-04-24T02:25:27.172781Z",
     "iopub.status.busy": "2025-04-24T02:25:27.172542Z",
     "iopub.status.idle": "2025-04-24T02:25:27.578752Z",
     "shell.execute_reply": "2025-04-24T02:25:27.578378Z"
    }
   },
   "outputs": [],
   "source": [
    "import numpy as np\n",
    "import pyvinecopulib as pv"
   ]
  },
  {
   "cell_type": "markdown",
   "metadata": {},
   "source": [
    "# Simulate some data"
   ]
  },
  {
   "cell_type": "code",
   "execution_count": 2,
   "metadata": {
    "execution": {
     "iopub.execute_input": "2025-04-24T02:25:27.580845Z",
     "iopub.status.busy": "2025-04-24T02:25:27.580555Z",
     "iopub.status.idle": "2025-04-24T02:25:27.588453Z",
     "shell.execute_reply": "2025-04-24T02:25:27.588057Z"
    }
   },
   "outputs": [],
   "source": [
    "np.random.seed(1234)  # seed for the random generator\n",
    "n = 1000  # number of observations\n",
    "d = 5  # the dimension\n",
    "mean = 1 + np.random.normal(size=d)  # mean vector\n",
    "cov = np.random.normal(size=(d, d))  # covariance matrix\n",
    "cov = np.dot(cov.transpose(), cov)  # make it non-negative definite\n",
    "x = np.random.multivariate_normal(mean, cov, n)"
   ]
  },
  {
   "cell_type": "markdown",
   "metadata": {},
   "source": [
    "## Fit a model"
   ]
  },
  {
   "cell_type": "code",
   "execution_count": 3,
   "metadata": {
    "execution": {
     "iopub.execute_input": "2025-04-24T02:25:27.590239Z",
     "iopub.status.busy": "2025-04-24T02:25:27.590007Z",
     "iopub.status.idle": "2025-04-24T02:25:27.611532Z",
     "shell.execute_reply": "2025-04-24T02:25:27.610984Z"
    }
   },
   "outputs": [
    {
     "name": "stdout",
     "output_type": "stream",
     "text": [
      "<pyvinecopulib.Vinecop> Vinecop model with 5 variables\n",
      "tree edge conditioned variables conditioning variables var_types   family rotation parameters  df   tau \n",
      "   1    1                  3, 1                             c, c Gaussian        0       0.39 1.0  0.26 \n",
      "   1    2                  2, 1                             c, c Gaussian        0       0.66 1.0  0.46 \n",
      "   1    3                  4, 1                             c, c Gaussian        0      -0.63 1.0 -0.43 \n",
      "   1    4                  1, 5                             c, c Gaussian        0      -0.62 1.0 -0.43 \n",
      "   2    1                  3, 2                      1      c, c Gaussian        0      -0.71 1.0 -0.50 \n",
      "   2    2                  2, 5                      1      c, c Gaussian        0      -0.25 1.0 -0.16 \n",
      "   2    3                  4, 5                      1      c, c Gaussian        0      -0.80 1.0 -0.59 \n",
      "   3    1                  3, 5                   2, 1      c, c Gaussian        0       0.00 1.0  0.00 \n",
      "   3    2                  2, 4                   5, 1      c, c Gaussian        0      -0.53 1.0 -0.35 \n",
      "   4    1                  3, 4                5, 2, 1      c, c Gaussian        0      -0.15 1.0 -0.10 \n",
      "\n"
     ]
    }
   ],
   "source": [
    "# Transform copula data using the empirical distribution\n",
    "u = pv.to_pseudo_obs(x)\n",
    "\n",
    "\n",
    "# Fit a Gaussian vine\n",
    "# (i.e., properly specified since the data is multivariate normal)\n",
    "controls = pv.FitControlsVinecop(family_set=[pv.gaussian])\n",
    "cop = pv.Vinecop.from_data(u, controls=controls)\n",
    "print(cop)"
   ]
  },
  {
   "cell_type": "markdown",
   "metadata": {},
   "source": [
    "## Sample from the model"
   ]
  },
  {
   "cell_type": "code",
   "execution_count": 4,
   "metadata": {
    "execution": {
     "iopub.execute_input": "2025-04-24T02:25:27.639273Z",
     "iopub.status.busy": "2025-04-24T02:25:27.638862Z",
     "iopub.status.idle": "2025-04-24T02:25:27.649797Z",
     "shell.execute_reply": "2025-04-24T02:25:27.649403Z"
    }
   },
   "outputs": [
    {
     "data": {
      "text/plain": [
       "[array([[ 2.37095772,  1.72011592,  1.34581349, -2.33400987, -3.1412032 ],\n",
       "        [ 1.72011592,  2.77391072, -0.8386675 , -1.94255384, -3.0356469 ],\n",
       "        [ 1.34581349, -0.8386675 ,  4.73656299, -1.11520579, -1.00737741],\n",
       "        [-2.33400987, -1.94255384, -1.11520579,  6.17099976, -0.86804342],\n",
       "        [-3.1412032 , -3.0356469 , -1.00737741, -0.86804342, 10.39309954]]),\n",
       " array([[ 2.16744222,  1.47141143,  1.34279539, -2.30665541, -2.69624644],\n",
       "        [ 1.47141143,  2.53813925, -0.86535813, -1.89449628, -2.53984006],\n",
       "        [ 1.34279539, -0.86535813,  4.78148082, -1.28555668, -0.81042926],\n",
       "        [-2.30665541, -1.89449628, -1.28555668,  5.90766463, -0.69632775],\n",
       "        [-2.69624644, -2.53984006, -0.81042926, -0.69632775,  9.23475236]])]"
      ]
     },
     "execution_count": 4,
     "metadata": {},
     "output_type": "execute_result"
    }
   ],
   "source": [
    "# Sample from the copula\n",
    "n_sim = 1000\n",
    "u_sim = cop.simulate(n_sim, seeds=[1, 2, 3, 4])\n",
    "\n",
    "# Transform back simulations to the original scale\n",
    "x_sim = np.asarray([np.quantile(x[:, i], u_sim[:, i]) for i in range(0, d)])\n",
    "\n",
    "# Both the mean and covariance matrix look ok!\n",
    "[mean, np.mean(x_sim, 1)]\n",
    "[cov, np.cov(x_sim)]"
   ]
  }
 ],
 "metadata": {
  "kernelspec": {
   "display_name": "pyvinecopulib",
   "language": "python",
   "name": "python3"
  },
  "language_info": {
   "codemirror_mode": {
    "name": "ipython",
    "version": 3
   },
   "file_extension": ".py",
   "mimetype": "text/x-python",
   "name": "python",
   "nbconvert_exporter": "python",
   "pygments_lexer": "ipython3",
   "version": "3.11.12"
  }
 },
 "nbformat": 4,
 "nbformat_minor": 2
}
