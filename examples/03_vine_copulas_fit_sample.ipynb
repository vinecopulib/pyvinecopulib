{
 "cells": [
  {
   "cell_type": "markdown",
   "metadata": {},
   "source": [
    "# Fitting a vine copula on dataset and sampling from the model\n",
    "\n",
    "## Import the required libraries"
   ]
  },
  {
   "cell_type": "code",
   "execution_count": 1,
   "metadata": {},
   "outputs": [],
   "source": [
    "import numpy as np\n",
    "import pyvinecopulib as pv"
   ]
  },
  {
   "cell_type": "markdown",
   "metadata": {},
   "source": [
    "# Simulate some data"
   ]
  },
  {
   "cell_type": "code",
   "execution_count": 2,
   "metadata": {},
   "outputs": [],
   "source": [
    "np.random.seed(1234)  # seed for the random generator\n",
    "n = 1000  # number of observations\n",
    "d = 5  # the dimension\n",
    "mean = 1 + np.random.normal(size=d)  # mean vector\n",
    "cov = np.random.normal(size=(d, d))  # covariance matrix\n",
    "cov = np.dot(cov.transpose(), cov)  # make it non-negative definite\n",
    "x = np.random.multivariate_normal(mean, cov, n)"
   ]
  },
  {
   "cell_type": "markdown",
   "metadata": {},
   "source": [
    "## Fit a model"
   ]
  },
  {
   "cell_type": "code",
   "execution_count": 3,
   "metadata": {},
   "outputs": [
    {
     "name": "stdout",
     "output_type": "stream",
     "text": [
      "<pyvinecopulib.Vinecop> Vinecop model with 5 variables\n",
      "tree edge conditioned variables conditioning variables var_types   family rotation parameters  df   tau \n",
      "   1    1                  3, 1                             c, c Gaussian        0       0.40 1.0  0.26 \n",
      "   1    2                  2, 1                             c, c Gaussian        0       0.67 1.0  0.47 \n",
      "   1    3                  4, 1                             c, c Gaussian        0      -0.61 1.0 -0.42 \n",
      "   1    4                  1, 5                             c, c Gaussian        0      -0.63 1.0 -0.44 \n",
      "   2    1                  3, 2                      1      c, c Gaussian        0      -0.74 1.0 -0.53 \n",
      "   2    2                  2, 4                      1      c, c Gaussian        0      -0.15 1.0 -0.09 \n",
      "   2    3                  4, 5                      1      c, c Gaussian        0      -0.80 1.0 -0.60 \n",
      "   3    1                  3, 4                   2, 1      c, c Gaussian        0      -0.05 1.0 -0.03 \n",
      "   3    2                  2, 5                   4, 1      c, c Gaussian        0      -0.49 1.0 -0.33 \n",
      "   4    1                  3, 5                4, 2, 1      c, c Gaussian        0      -0.06 1.0 -0.04 \n",
      "\n"
     ]
    }
   ],
   "source": [
    "# Transform copula data using the empirical distribution\n",
    "u = pv.to_pseudo_obs(x)\n",
    "\n",
    "\n",
    "# Fit a Gaussian vine\n",
    "# (i.e., properly specified since the data is multivariate normal)\n",
    "controls = pv.FitControlsVinecop(family_set=[pv.BicopFamily.gaussian])\n",
    "cop = pv.Vinecop.from_data(u, controls=controls)\n",
    "print(cop)"
   ]
  },
  {
   "cell_type": "markdown",
   "metadata": {},
   "source": [
    "## Sample from the model"
   ]
  },
  {
   "cell_type": "code",
   "execution_count": 4,
   "metadata": {},
   "outputs": [
    {
     "data": {
      "text/plain": [
       "[array([[ 2.37095772,  1.72011592,  1.34581349, -2.33400987, -3.1412032 ],\n",
       "        [ 1.72011592,  2.77391072, -0.8386675 , -1.94255384, -3.0356469 ],\n",
       "        [ 1.34581349, -0.8386675 ,  4.73656299, -1.11520579, -1.00737741],\n",
       "        [-2.33400987, -1.94255384, -1.11520579,  6.17099976, -0.86804342],\n",
       "        [-3.1412032 , -3.0356469 , -1.00737741, -0.86804342, 10.39309954]]),\n",
       " array([[ 2.22422017,  1.5946634 ,  1.44467283, -2.24840034, -2.86432409],\n",
       "        [ 1.5946634 ,  2.56490065, -0.64236225, -1.88381331, -2.55280137],\n",
       "        [ 1.44467283, -0.64236225,  4.48378773, -1.21625326, -1.35825765],\n",
       "        [-2.24840034, -1.88381331, -1.21625326,  6.11239488, -1.14967754],\n",
       "        [-2.86432409, -2.55280137, -1.35825765, -1.14967754,  9.93512784]])]"
      ]
     },
     "execution_count": 4,
     "metadata": {},
     "output_type": "execute_result"
    }
   ],
   "source": [
    "# Sample from the copula\n",
    "n_sim = 1000\n",
    "u_sim = cop.simulate(n_sim, seeds=[1, 2, 3, 4])\n",
    "\n",
    "# Transform back simulations to the original scale\n",
    "x_sim = np.asarray([np.quantile(x[:, i], u_sim[:, i]) for i in range(0, d)])\n",
    "\n",
    "# Both the mean and covariance matrix look ok!\n",
    "[mean, np.mean(x_sim, 1)]\n",
    "[cov, np.cov(x_sim)]"
   ]
  }
 ],
 "metadata": {
  "kernelspec": {
   "display_name": "pyvinecopulib311",
   "language": "python",
   "name": "python3"
  },
  "language_info": {
   "codemirror_mode": {
    "name": "ipython",
    "version": 3
   },
   "file_extension": ".py",
   "mimetype": "text/x-python",
   "name": "python",
   "nbconvert_exporter": "python",
   "pygments_lexer": "ipython3",
   "version": "3.11.6"
  }
 },
 "nbformat": 4,
 "nbformat_minor": 2
}
