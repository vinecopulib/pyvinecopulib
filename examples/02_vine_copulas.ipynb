{
 "cells": [
  {
   "cell_type": "markdown",
   "metadata": {},
   "source": [
    "# Introduction to the vine copula (`Vinecop`) API\n",
    "\n",
    "## Import the libraries"
   ]
  },
  {
   "cell_type": "code",
   "execution_count": 1,
   "metadata": {
    "execution": {
     "iopub.execute_input": "2025-04-24T02:25:08.173535Z",
     "iopub.status.busy": "2025-04-24T02:25:08.173416Z",
     "iopub.status.idle": "2025-04-24T02:25:08.480938Z",
     "shell.execute_reply": "2025-04-24T02:25:08.480564Z"
    }
   },
   "outputs": [],
   "source": [
    "import pyvinecopulib as pv\n",
    "\n",
    "import numpy as np"
   ]
  },
  {
   "cell_type": "markdown",
   "metadata": {},
   "source": [
    "## A first vine copula"
   ]
  },
  {
   "cell_type": "code",
   "execution_count": 2,
   "metadata": {
    "execution": {
     "iopub.execute_input": "2025-04-24T02:25:08.482528Z",
     "iopub.status.busy": "2025-04-24T02:25:08.482352Z",
     "iopub.status.idle": "2025-04-24T02:25:08.755775Z",
     "shell.execute_reply": "2025-04-24T02:25:08.755477Z"
    }
   },
   "outputs": [
    {
     "name": "stdout",
     "output_type": "stream",
     "text": [
      "<pyvinecopulib.Vinecop> Vinecop model with 3 variables\n",
      "tree edge conditioned variables conditioning variables var_types family rotation parameters  df   tau \n",
      "   1    1                  3, 1                             c, c    BB1       90 3.00, 2.00 2.0 -0.80 \n",
      "   1    2                  2, 1                             c, c    BB1       90 3.00, 2.00 2.0 -0.80 \n",
      "   2    1                  3, 2                      1      c, c    BB1       90 3.00, 2.00 2.0 -0.80 \n",
      "\n"
     ]
    },
    {
     "data": {
      "image/png": "[encoded data removed]",
      "text/plain": [
       "<Figure size 500x800 with 2 Axes>"
      ]
     },
     "metadata": {
      "image/png": {
       "name": "02_vine_copulas_3_1.png"
      }
     },
     "output_type": "display_data"
    }
   ],
   "source": [
    "# Specify pair-copulas\n",
    "bicop = pv.Bicop(pv.bb1, 90, parameters=np.array([[3.0], [2.0]]))\n",
    "pcs = [[bicop, bicop], [bicop]]\n",
    "\n",
    "# Specify R-vine matrix\n",
    "mat = np.array([[1, 1, 1], [2, 2, 0], [3, 0, 0]])\n",
    "\n",
    "# Set-up a vine copula\n",
    "cop = pv.Vinecop.from_structure(matrix=mat, pair_copulas=pcs)\n",
    "print(cop)\n",
    "cop.plot()"
   ]
  },
  {
   "cell_type": "markdown",
   "metadata": {
    "scrolled": true
   },
   "source": [
    "## Showcase some methods"
   ]
  },
  {
   "cell_type": "code",
   "execution_count": 3,
   "metadata": {
    "execution": {
     "iopub.execute_input": "2025-04-24T02:25:08.757265Z",
     "iopub.status.busy": "2025-04-24T02:25:08.757020Z",
     "iopub.status.idle": "2025-04-24T02:25:08.760980Z",
     "shell.execute_reply": "2025-04-24T02:25:08.760757Z"
    }
   },
   "outputs": [
    {
     "data": {
      "text/plain": [
       "[array([ 38.2942697 ,  52.8473494 , 183.65461931,  36.9527167 ,\n",
       "          7.16001579,  14.15151805, 693.73724148,  10.40075319,\n",
       "        200.77188365, 117.39210389]),\n",
       " array([[0.39834572, 0.55248667, 0.8346452 ],\n",
       "        [0.1638618 , 0.03952828, 0.8170847 ],\n",
       "        [0.14649436, 0.36602719, 0.16910484],\n",
       "        [0.90118677, 0.48023317, 0.11345478],\n",
       "        [0.61664802, 0.3370985 , 0.06016371],\n",
       "        [0.62193432, 0.19787956, 0.12286857],\n",
       "        [0.98701895, 0.76550606, 0.34747154],\n",
       "        [0.6902412 , 0.85523898, 0.78638305],\n",
       "        [0.20454371, 0.24959629, 0.55338439],\n",
       "        [0.13685699, 0.17627362, 0.10872534]]),\n",
       " array([[0.39834572, 0.61612757, 0.57211478],\n",
       "        [0.1638618 , 0.8532701 , 0.82541445],\n",
       "        [0.14649436, 0.88204652, 0.82745691],\n",
       "        [0.90118677, 0.04913159, 0.21760103],\n",
       "        [0.61664802, 0.32505571, 0.42182647],\n",
       "        [0.62193432, 0.29848552, 0.44384955],\n",
       "        [0.98701895, 0.00394023, 0.08398199],\n",
       "        [0.6902412 , 0.29659508, 0.30017289],\n",
       "        [0.20454371, 0.8214247 , 0.77090086],\n",
       "        [0.13685699, 0.88790358, 0.84304038]]),\n",
       " 40.00539851060964,\n",
       " -68.01079702121928,\n",
       " -66.195286463255]"
      ]
     },
     "execution_count": 3,
     "metadata": {},
     "output_type": "execute_result"
    }
   ],
   "source": [
    "u = cop.simulate(n=10, seeds=[1, 2, 3])\n",
    "fcts = [\n",
    "  cop.pdf,\n",
    "  cop.rosenblatt,\n",
    "  cop.inverse_rosenblatt,\n",
    "  cop.loglik,\n",
    "  cop.aic,\n",
    "  cop.bic,\n",
    "]\n",
    "[f(u) for f in fcts]"
   ]
  },
  {
   "cell_type": "markdown",
   "metadata": {},
   "source": [
    "## Different ways to fit a copula (when the families and structure are known)..."
   ]
  },
  {
   "cell_type": "code",
   "execution_count": 4,
   "metadata": {
    "execution": {
     "iopub.execute_input": "2025-04-24T02:25:08.762048Z",
     "iopub.status.busy": "2025-04-24T02:25:08.761901Z",
     "iopub.status.idle": "2025-04-24T02:25:08.900002Z",
     "shell.execute_reply": "2025-04-24T02:25:08.899641Z"
    }
   },
   "outputs": [
    {
     "name": "stdout",
     "output_type": "stream",
     "text": [
      "<pyvinecopulib.FitControlsVinecop>\n",
      "Family set: BB1\n",
      "Parametric method: mle\n",
      "Nonparametric method: constant\n",
      "Nonparametric multiplier: 1\n",
      "Weights: no\n",
      "Selection criterion: bic\n",
      "Preselect families: yes\n",
      "mBIC prior probability: 0.9\n",
      "Truncation level: none (default)\n",
      "Tree criterion: tau\n",
      "Threshold: 0\n",
      "Select truncation level: no\n",
      "Select threshold: no\n",
      "Select families: yes\n",
      "Show trace: no\n",
      "Number of threads: 1\n",
      "MST algorithm: mst_prim\n",
      "\n",
      "<pyvinecopulib.Vinecop> Vinecop model with 3 variables\n",
      "tree edge conditioned variables conditioning variables var_types family rotation parameters  df   tau \n",
      "   1    1                  3, 1                             c, c    BB1       90 2.84, 2.02 2.0 -0.80 \n",
      "   1    2                  2, 1                             c, c    BB1       90 2.81, 2.01 2.0 -0.79 \n",
      "   2    1                  3, 2                      1      c, c    BB1       90 3.07, 2.05 2.0 -0.81 \n",
      "\n",
      "<pyvinecopulib.Vinecop> Vinecop model with 3 variables\n",
      "tree edge conditioned variables conditioning variables var_types family rotation parameters  df   tau \n",
      "   1    1                  3, 1                             c, c    BB1       90 2.84, 2.02 2.0 -0.80 \n",
      "   1    2                  2, 1                             c, c    BB1       90 2.81, 2.01 2.0 -0.79 \n",
      "   2    1                  3, 2                      1      c, c    BB1       90 3.07, 2.05 2.0 -0.81 \n",
      "\n"
     ]
    }
   ],
   "source": [
    "u = cop.simulate(n=1000, seeds=[1, 2, 3])\n",
    "\n",
    "# Define first an object to control the fits:\n",
    "#    - pv.FitControlsVinecop objects store the controls\n",
    "#    - here, we only restrict the parametric family\n",
    "#    - see help(pv.FitControlsVinecop) for more details\n",
    "controls = pv.FitControlsVinecop(family_set=[pv.bb1])\n",
    "print(controls)\n",
    "\n",
    "# Create a new object an select family and parameters by fitting to data\n",
    "cop2 = pv.Vinecop.from_structure(matrix=mat, pair_copulas=pcs)\n",
    "cop2.select(data=u, controls=controls)\n",
    "print(cop2)\n",
    "\n",
    "# Otherwise, create directly from data\n",
    "cop2 = pv.Vinecop.from_data(data=u, matrix=mat, controls=controls)\n",
    "print(cop2)"
   ]
  },
  {
   "cell_type": "markdown",
   "metadata": {},
   "source": [
    "## When nothing is known, there are also two ways to fit a copula..."
   ]
  },
  {
   "cell_type": "code",
   "execution_count": 5,
   "metadata": {
    "execution": {
     "iopub.execute_input": "2025-04-24T02:25:08.901304Z",
     "iopub.status.busy": "2025-04-24T02:25:08.901187Z",
     "iopub.status.idle": "2025-04-24T02:25:10.178239Z",
     "shell.execute_reply": "2025-04-24T02:25:10.177858Z"
    }
   },
   "outputs": [
    {
     "name": "stdout",
     "output_type": "stream",
     "text": [
      "<pyvinecopulib.Vinecop> Vinecop model with 3 variables\n",
      "tree edge conditioned variables conditioning variables var_types family rotation parameters  df   tau \n",
      "   1    1                  2, 1                             c, c    BB1       90 2.81, 2.01 2.0 -0.79 \n",
      "   1    2                  1, 3                             c, c    BB6       90 1.49, 3.96 2.0 -0.80 \n",
      "   2    1                  2, 3                      1      c, c    BB1      270 2.94, 2.02 2.0 -0.80 \n",
      "\n",
      "<pyvinecopulib.Vinecop> Vinecop model with 3 variables\n",
      "tree edge conditioned variables conditioning variables var_types family rotation parameters  df   tau \n",
      "   1    1                  2, 1                             c, c    BB1       90 2.81, 2.01 2.0 -0.79 \n",
      "   1    2                  1, 3                             c, c    BB6       90 1.49, 3.96 2.0 -0.80 \n",
      "   2    1                  2, 3                      1      c, c    BB1      270 2.94, 2.02 2.0 -0.80 \n",
      "\n"
     ]
    },
    {
     "data": {
      "image/png": "[encoded data removed]",
      "text/plain": [
       "<Figure size 500x800 with 2 Axes>"
      ]
     },
     "metadata": {
      "image/png": {
       "name": "02_vine_copulas_9_1.png"
      }
     },
     "output_type": "display_data"
    }
   ],
   "source": [
    "# Create a new object and select strucutre, family, and parameters\n",
    "cop3 = pv.Vinecop(d=3)\n",
    "cop3.select(data=u)\n",
    "print(cop3)\n",
    "\n",
    "# Otherwise, create directly from data\n",
    "cop3 = pv.Vinecop.from_data(data=u)\n",
    "print(cop3)\n",
    "cop3.plot()"
   ]
  },
  {
   "cell_type": "markdown",
   "metadata": {},
   "source": [
    "## C-vine structures"
   ]
  },
  {
   "cell_type": "code",
   "execution_count": 6,
   "metadata": {
    "execution": {
     "iopub.execute_input": "2025-04-24T02:25:10.179676Z",
     "iopub.status.busy": "2025-04-24T02:25:10.179416Z",
     "iopub.status.idle": "2025-04-24T02:25:10.378553Z",
     "shell.execute_reply": "2025-04-24T02:25:10.378261Z"
    }
   },
   "outputs": [
    {
     "name": "stdout",
     "output_type": "stream",
     "text": [
      "<pyvinecopulib.Vinecop> Vinecop model with 4 variables\n",
      "tree edge conditioned variables conditioning variables var_types       family rotation parameters  df  tau \n",
      "   1    1                  4, 1                             c, c     Gaussian        0       0.50 1.0 0.33 \n",
      "   1    2                  3, 1                             c, c      Clayton        0       3.00 1.0 0.60 \n",
      "   1    3                  2, 1                             c, c      Student        0 0.40, 4.00 2.0 0.26 \n",
      "   2    1                  4, 2                      1      c, c Independence                         0.00 \n",
      "   2    2                  3, 2                      1      c, c     Gaussian        0       0.50 1.0 0.33 \n",
      "   3    1                  4, 3                   2, 1      c, c     Gaussian        0       0.00 1.0 0.00 \n",
      "\n"
     ]
    },
    {
     "data": {
      "image/png": "[encoded data removed]",
      "text/plain": [
       "<Figure size 500x800 with 3 Axes>"
      ]
     },
     "metadata": {
      "image/png": {
       "name": "02_vine_copulas_11_1.png"
      }
     },
     "output_type": "display_data"
    }
   ],
   "source": [
    "# create a C-vine structure with root node 1 in first tree, 2 in second, ...\n",
    "cvine = pv.CVineStructure([4, 3, 2, 1])\n",
    "# specify pair-copulas in every tree\n",
    "tree1 = [\n",
    "  pv.Bicop(pv.gaussian, 0, np.array([[0.5]])),\n",
    "  pv.Bicop(pv.clayton, 0, np.array([[3.0]])),\n",
    "  pv.Bicop(pv.student, 0, np.array([[0.4], [4]])),\n",
    "]\n",
    "tree2 = [\n",
    "  pv.Bicop(pv.indep),\n",
    "  pv.Bicop(pv.gaussian, 0, np.array([[0.5]])),\n",
    "]\n",
    "tree3 = [pv.Bicop(pv.gaussian)]\n",
    "\n",
    "# instantiate C-vine copula model\n",
    "cop = pv.Vinecop.from_structure(\n",
    "  structure=cvine, pair_copulas=[tree1, tree2, tree3]\n",
    ")\n",
    "print(cop)\n",
    "cop.plot()"
   ]
  }
 ],
 "metadata": {
  "kernelspec": {
   "display_name": "pyvinecopulib",
   "language": "python",
   "name": "python3"
  },
  "language_info": {
   "codemirror_mode": {
    "name": "ipython",
    "version": 3
   },
   "file_extension": ".py",
   "mimetype": "text/x-python",
   "name": "python",
   "nbconvert_exporter": "python",
   "pygments_lexer": "ipython3",
   "version": "3.11.12"
  }
 },
 "nbformat": 4,
 "nbformat_minor": 2
}
